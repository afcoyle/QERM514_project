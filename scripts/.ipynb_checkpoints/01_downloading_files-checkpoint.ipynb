{
 "cells": [
  {
   "cell_type": "markdown",
   "metadata": {},
   "source": [
    "Aidan Coyle\n",
    "\n",
    "afcoyle@uw.edu\n",
    "\n",
    "QERM 514, Spring 2021\n",
    "\n",
    "Written 2021/05/12, last edited 2021/05/12\n",
    "\n",
    "Final Project"
   ]
  },
  {
   "cell_type": "markdown",
   "metadata": {},
   "source": [
    "## Script 1: Download directory containing all survey data files"
   ]
  },
  {
   "cell_type": "code",
   "execution_count": null,
   "metadata": {},
   "outputs": [],
   "source": [
    "# Download all data from folder contained on Gannet\n",
    "!wget --no-check-certificate --no-parent --recursive --reject \"index.html\" https://gannet.fish.washington.edu/hematodinium/Hemato%20samples/BCS%20Extraction%20Plate%20maps%202005_2013/ADFG%20Tanner%20Survey%20Data/"
   ]
  },
  {
   "cell_type": "code",
   "execution_count": 35,
   "metadata": {},
   "outputs": [],
   "source": [
    "# Copy downloaded files into data directory\n",
    "!mv gannet.fish.washington.edu/hematodinium/Hemato\\ samples/BCS\\ Extraction\\ Plate\\ maps\\ 2005_2013/ADFG\\ Tanner\\ Survey\\ Data/* ../data"
   ]
  },
  {
   "cell_type": "code",
   "execution_count": 36,
   "metadata": {},
   "outputs": [],
   "source": [
    "# Remove remnant folder in our scripts directory\n",
    "!rm -r gannet.fish.washington.edu/"
   ]
  },
  {
   "cell_type": "code",
   "execution_count": 37,
   "metadata": {},
   "outputs": [
    {
     "name": "stdout",
     "output_type": "stream",
     "text": [
      "/mnt/c/Users/acoyl/Documents/GradSchool/Classwork/Spring_2021/QERM_514_Linear_Modeling/Project/data\n"
     ]
    }
   ],
   "source": [
    "# Change into data directory\n",
    "%cd ../data"
   ]
  },
  {
   "cell_type": "code",
   "execution_count": 38,
   "metadata": {},
   "outputs": [
    {
     "name": "stdout",
     "output_type": "stream",
     "text": [
      "moving 2007 ADFG SEAK Original.xls to 2007_ADFG_SEAK_Original.xls\n",
      "moving 2008 ADFG SEAK Summer Survey_bairdi RAW.xls to 2008_ADFG_SEAK_Summer_Survey_bairdi_RAW.xls\n",
      "moving 2008 ADFG SEAK Summer Survey_bairdi RAW2.xls to 2008_ADFG_SEAK_Summer_Survey_bairdi_RAW2.xls\n",
      "moving 2009 ADFG SEAK Fall Tanner Survey Data RAW.xls to 2009_ADFG_SEAK_Fall_Tanner_Survey_Data_RAW.xls\n",
      "moving 2010 ADFG SEAK Fall Tanner Survey Data_RAW.xlsx to 2010_ADFG_SEAK_Fall_Tanner_Survey_Data_RAW.xlsx\n",
      "moving 2010 ADFG SEAK Fall Tanner Survey Data_RAW2.xls to 2010_ADFG_SEAK_Fall_Tanner_Survey_Data_RAW2.xls\n",
      "moving 2011 Summer and Fall BCS samples RAW.xlsx to 2011_Summer_and_Fall_BCS_samples_RAW.xlsx\n",
      "moving 2011 Tanner Leg 1 Skipper Data RAW.xlsx to 2011_Tanner_Leg_1_Skipper_Data_RAW.xlsx\n",
      "moving 2012 ADFG Haul data_RAW.xlsx to 2012_ADFG_Haul_data_RAW.xlsx\n",
      "moving 2012 ADFG Summer_Fall data RAW.xlsx to 2012_ADFG_Summer_Fall_data_RAW.xlsx\n"
     ]
    }
   ],
   "source": [
    "# Run a shell script that changes all spaces to underscores in filenames\n",
    "! ../scripts/remove_spaces.sh"
   ]
  },
  {
   "cell_type": "code",
   "execution_count": 39,
   "metadata": {},
   "outputs": [
    {
     "name": "stdout",
     "output_type": "stream",
     "text": [
      "/mnt/c/Users/acoyl/Documents/GradSchool/Classwork/Spring_2021/QERM_514_Linear_Modeling/Project/scripts\n"
     ]
    }
   ],
   "source": [
    "# Move back into scripts directory\n",
    "%cd ../scripts"
   ]
  },
  {
   "cell_type": "code",
   "execution_count": null,
   "metadata": {},
   "outputs": [],
   "source": [
    "# Remove files that don't contain relevant data\n",
    "!rm ../data/index.html*\n",
    "!rm ../data/2012_ADFG_Summer_Fall_data_RAW.xlsx\n",
    "!rm ../data/2011_Tanner_Leg_1_Skipper_Data_RAW.xlsx\n",
    "!rm ../data/2010_ADFG_SEAK_Fall_Tanner_Survey_Data_RAW2.xls\n",
    "!rm ../data/2008_ADFG_SEAK_Summer_Survey_bairdi_RAW2.xls"
   ]
  },
  {
   "cell_type": "code",
   "execution_count": 41,
   "metadata": {},
   "outputs": [
    {
     "name": "stdout",
     "output_type": "stream",
     "text": [
      "2007_ADFG_SEAK_Original.xls\n",
      "2008_ADFG_SEAK_Summer_Survey_bairdi_RAW.xls\n",
      "2009_ADFG_SEAK_Fall_Tanner_Survey_Data_RAW.xls\n",
      "2010_ADFG_SEAK_Fall_Tanner_Survey_Data_RAW.xlsx\n",
      "2011_Summer_and_Fall_BCS_samples_RAW.xlsx\n",
      "2012_ADFG_Haul_data_RAW.xlsx\n",
      "2012_ADFG_Summer_Fall_data_RAW.xlsx\n"
     ]
    }
   ],
   "source": [
    "# List all remaining files\n",
    "!ls ../data/"
   ]
  }
 ],
 "metadata": {
  "kernelspec": {
   "display_name": "Python 3",
   "language": "python",
   "name": "python3"
  },
  "language_info": {
   "codemirror_mode": {
    "name": "ipython",
    "version": 3
   },
   "file_extension": ".py",
   "mimetype": "text/x-python",
   "name": "python",
   "nbconvert_exporter": "python",
   "pygments_lexer": "ipython3",
   "version": "3.8.3"
  }
 },
 "nbformat": 4,
 "nbformat_minor": 4
}
